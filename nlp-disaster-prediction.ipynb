{
 "cells": [
  {
   "cell_type": "code",
   "execution_count": 1,
   "id": "a931d954",
   "metadata": {
    "_cell_guid": "b1076dfc-b9ad-4769-8c92-a6c4dae69d19",
    "_uuid": "8f2839f25d086af736a60e9eeb907d3b93b6e0e5",
    "execution": {
     "iopub.execute_input": "2023-05-06T10:51:01.718018Z",
     "iopub.status.busy": "2023-05-06T10:51:01.717277Z",
     "iopub.status.idle": "2023-05-06T10:51:01.735205Z",
     "shell.execute_reply": "2023-05-06T10:51:01.733843Z"
    },
    "papermill": {
     "duration": 0.031594,
     "end_time": "2023-05-06T10:51:01.738193",
     "exception": false,
     "start_time": "2023-05-06T10:51:01.706599",
     "status": "completed"
    },
    "tags": []
   },
   "outputs": [
    {
     "name": "stdout",
     "output_type": "stream",
     "text": [
      "/kaggle/input/nlp-getting-started/sample_submission.csv\n",
      "/kaggle/input/nlp-getting-started/train.csv\n",
      "/kaggle/input/nlp-getting-started/test.csv\n"
     ]
    }
   ],
   "source": [
    "# This Python 3 environment comes with many helpful analytics libraries installed\n",
    "# It is defined by the kaggle/python Docker image: https://github.com/kaggle/docker-python\n",
    "# For example, here's several helpful packages to load\n",
    "\n",
    "import numpy as np # linear algebra\n",
    "import pandas as pd # data processing, CSV file I/O (e.g. pd.read_csv)\n",
    "\n",
    "# Input data files are available in the read-only \"../input/\" directory\n",
    "# For example, running this (by clicking run or pressing Shift+Enter) will list all files under the input directory\n",
    "\n",
    "import os\n",
    "for dirname, _, filenames in os.walk('/kaggle/input'):\n",
    "    for filename in filenames:\n",
    "        print(os.path.join(dirname, filename))\n",
    "\n",
    "# You can write up to 20GB to the current directory (/kaggle/working/) that gets preserved as output when you create a version using \"Save & Run All\" \n",
    "# You can also write temporary files to /kaggle/temp/, but they won't be saved outside of the current session"
   ]
  },
  {
   "cell_type": "code",
   "execution_count": 2,
   "id": "abc89555",
   "metadata": {
    "execution": {
     "iopub.execute_input": "2023-05-06T10:51:01.753517Z",
     "iopub.status.busy": "2023-05-06T10:51:01.753112Z",
     "iopub.status.idle": "2023-05-06T10:51:01.865440Z",
     "shell.execute_reply": "2023-05-06T10:51:01.864538Z"
    },
    "papermill": {
     "duration": 0.123349,
     "end_time": "2023-05-06T10:51:01.868344",
     "exception": false,
     "start_time": "2023-05-06T10:51:01.744995",
     "status": "completed"
    },
    "tags": []
   },
   "outputs": [],
   "source": [
    "#lets's import the datasets\n",
    "train_df = pd.read_csv(r\"/kaggle/input/nlp-getting-started/train.csv\")\n",
    "test_df = pd.read_csv(r\"/kaggle/input/nlp-getting-started/test.csv\")\n",
    "sample_submission_df = pd.read_csv(r\"/kaggle/input/nlp-getting-started/sample_submission.csv\")\n"
   ]
  },
  {
   "cell_type": "markdown",
   "id": "e0eca828",
   "metadata": {
    "papermill": {
     "duration": 0.006144,
     "end_time": "2023-05-06T10:51:01.881022",
     "exception": false,
     "start_time": "2023-05-06T10:51:01.874878",
     "status": "completed"
    },
    "tags": []
   },
   "source": [
    "# **Splitting the Data**\n",
    "*we have separate train and test data. let's keep some train data for validation to check overfit or undefit.*\n"
   ]
  },
  {
   "cell_type": "code",
   "execution_count": 3,
   "id": "ebea39c7",
   "metadata": {
    "execution": {
     "iopub.execute_input": "2023-05-06T10:51:01.896184Z",
     "iopub.status.busy": "2023-05-06T10:51:01.895539Z",
     "iopub.status.idle": "2023-05-06T10:51:03.076127Z",
     "shell.execute_reply": "2023-05-06T10:51:03.074944Z"
    },
    "papermill": {
     "duration": 1.191885,
     "end_time": "2023-05-06T10:51:03.079406",
     "exception": false,
     "start_time": "2023-05-06T10:51:01.887521",
     "status": "completed"
    },
    "tags": []
   },
   "outputs": [],
   "source": [
    "from sklearn.model_selection import train_test_split\n",
    "X = train_df.drop(\"target\", axis=1)\n",
    "y = train_df[\"target\"]\n",
    "\n",
    "columns_to_remove = [\"id\",\"keyword\",\"location\"]\n",
    "X = X.drop(columns=columns_to_remove)\n",
    "\n",
    "X_train,X_test, y_train, y_test = train_test_split(X,y,test_size=0.2,random_state=100)"
   ]
  },
  {
   "cell_type": "code",
   "execution_count": 4,
   "id": "55e3eb5b",
   "metadata": {
    "execution": {
     "iopub.execute_input": "2023-05-06T10:51:03.095012Z",
     "iopub.status.busy": "2023-05-06T10:51:03.093466Z",
     "iopub.status.idle": "2023-05-06T10:51:03.103558Z",
     "shell.execute_reply": "2023-05-06T10:51:03.102825Z"
    },
    "papermill": {
     "duration": 0.01995,
     "end_time": "2023-05-06T10:51:03.105888",
     "exception": false,
     "start_time": "2023-05-06T10:51:03.085938",
     "status": "completed"
    },
    "tags": []
   },
   "outputs": [
    {
     "data": {
      "text/plain": [
       "7556       The Twitter update pretty much wrecked the app\n",
       "2549    If GOP want to destroy America then Obama is d...\n",
       "5370    @elielcruz just watching the streams was bad -...\n",
       "3144    When your child needs emergency care they can ...\n",
       "496     #TBT Remember that time Patrick Kane attacked ...\n",
       "Name: text, dtype: object"
      ]
     },
     "execution_count": 4,
     "metadata": {},
     "output_type": "execute_result"
    }
   ],
   "source": [
    "X_train[\"text\"].head()"
   ]
  },
  {
   "cell_type": "markdown",
   "id": "5d641dfd",
   "metadata": {
    "papermill": {
     "duration": 0.005971,
     "end_time": "2023-05-06T10:51:03.118156",
     "exception": false,
     "start_time": "2023-05-06T10:51:03.112185",
     "status": "completed"
    },
    "tags": []
   },
   "source": [
    "*Creating vocabulary for train and test data using keras*"
   ]
  },
  {
   "cell_type": "code",
   "execution_count": 5,
   "id": "17963da5",
   "metadata": {
    "execution": {
     "iopub.execute_input": "2023-05-06T10:51:03.132937Z",
     "iopub.status.busy": "2023-05-06T10:51:03.132466Z",
     "iopub.status.idle": "2023-05-06T10:51:10.069941Z",
     "shell.execute_reply": "2023-05-06T10:51:10.068622Z"
    },
    "papermill": {
     "duration": 6.948415,
     "end_time": "2023-05-06T10:51:10.072935",
     "exception": false,
     "start_time": "2023-05-06T10:51:03.124520",
     "status": "completed"
    },
    "tags": []
   },
   "outputs": [],
   "source": [
    "from nltk.tokenize import word_tokenize\n",
    "import tensorflow as tf\n",
    "from tensorflow import keras\n",
    "\n",
    "from keras.preprocessing.text import Tokenizer\n",
    "from keras_preprocessing.sequence import pad_sequences"
   ]
  },
  {
   "cell_type": "code",
   "execution_count": 6,
   "id": "961db834",
   "metadata": {
    "execution": {
     "iopub.execute_input": "2023-05-06T10:51:10.090672Z",
     "iopub.status.busy": "2023-05-06T10:51:10.089770Z",
     "iopub.status.idle": "2023-05-06T10:51:10.095116Z",
     "shell.execute_reply": "2023-05-06T10:51:10.093761Z"
    },
    "papermill": {
     "duration": 0.018353,
     "end_time": "2023-05-06T10:51:10.097928",
     "exception": false,
     "start_time": "2023-05-06T10:51:10.079575",
     "status": "completed"
    },
    "tags": []
   },
   "outputs": [],
   "source": [
    "# X_train[\"text\"].apply(word_tokenize).map(len).plot(kind=\"bar\")"
   ]
  },
  {
   "cell_type": "code",
   "execution_count": 7,
   "id": "eba7a0ea",
   "metadata": {
    "execution": {
     "iopub.execute_input": "2023-05-06T10:51:10.114327Z",
     "iopub.status.busy": "2023-05-06T10:51:10.113937Z",
     "iopub.status.idle": "2023-05-06T10:51:10.456071Z",
     "shell.execute_reply": "2023-05-06T10:51:10.454782Z"
    },
    "papermill": {
     "duration": 0.354151,
     "end_time": "2023-05-06T10:51:10.459138",
     "exception": false,
     "start_time": "2023-05-06T10:51:10.104987",
     "status": "completed"
    },
    "tags": []
   },
   "outputs": [],
   "source": [
    "vocab_length = 1000\n",
    "tokenizer_obj = Tokenizer(num_words=vocab_length,oov_token=\"<oov>\")\n",
    "\n",
    "tokenizer_obj.fit_on_texts(X_train['text'].values)\n",
    "# We will fit the tokenizer on train and use the same on test to make sequences\n",
    "# print(tokenizer_obj.word_index)\n",
    "\n",
    "train_sequences = tokenizer_obj.texts_to_sequences(X_train['text'].values)\n",
    "# representing each word in a sentence/record with index value of it in a vocab learnt buy tokenizer\n",
    "test_sequences = tokenizer_obj.texts_to_sequences(X_test['text'].values)"
   ]
  },
  {
   "cell_type": "markdown",
   "id": "6963402b",
   "metadata": {
    "papermill": {
     "duration": 0.006524,
     "end_time": "2023-05-06T10:51:10.472174",
     "exception": false,
     "start_time": "2023-05-06T10:51:10.465650",
     "status": "completed"
    },
    "tags": []
   },
   "source": [
    "*padding vectors/sequences generated for different length sentences to have a same length*"
   ]
  },
  {
   "cell_type": "code",
   "execution_count": 8,
   "id": "49985674",
   "metadata": {
    "execution": {
     "iopub.execute_input": "2023-05-06T10:51:10.486458Z",
     "iopub.status.busy": "2023-05-06T10:51:10.486073Z",
     "iopub.status.idle": "2023-05-06T10:51:10.518445Z",
     "shell.execute_reply": "2023-05-06T10:51:10.517267Z"
    },
    "papermill": {
     "duration": 0.043366,
     "end_time": "2023-05-06T10:51:10.521680",
     "exception": false,
     "start_time": "2023-05-06T10:51:10.478314",
     "status": "completed"
    },
    "tags": []
   },
   "outputs": [],
   "source": [
    "sequence_length = 25\n",
    "#padding training data.\n",
    "train_sequences = pad_sequences(train_sequences, maxlen=sequence_length)\n",
    "# going with default padding as 'pre'\n",
    "\n",
    "#padding testing data\n",
    "test_sequences = pad_sequences(test_sequences,maxlen=sequence_length)"
   ]
  },
  {
   "cell_type": "markdown",
   "id": "bcb9a3c6",
   "metadata": {
    "papermill": {
     "duration": 0.005921,
     "end_time": "2023-05-06T10:51:10.534218",
     "exception": false,
     "start_time": "2023-05-06T10:51:10.528297",
     "status": "completed"
    },
    "tags": []
   },
   "source": [
    "**Building the model**"
   ]
  },
  {
   "cell_type": "code",
   "execution_count": 9,
   "id": "06956a6e",
   "metadata": {
    "execution": {
     "iopub.execute_input": "2023-05-06T10:51:10.548924Z",
     "iopub.status.busy": "2023-05-06T10:51:10.548237Z",
     "iopub.status.idle": "2023-05-06T10:51:11.394903Z",
     "shell.execute_reply": "2023-05-06T10:51:11.393688Z"
    },
    "papermill": {
     "duration": 0.857574,
     "end_time": "2023-05-06T10:51:11.398043",
     "exception": false,
     "start_time": "2023-05-06T10:51:10.540469",
     "status": "completed"
    },
    "tags": []
   },
   "outputs": [],
   "source": [
    "model = keras.Sequential()\n",
    "model.add(keras.layers.Embedding(vocab_length,128,input_length=sequence_length))\n",
    "model.add(keras.layers.LSTM(64,return_sequences=False))\n",
    "model.add(keras.layers.Dense(32,activation=\"relu\"))\n",
    "model.add(keras.layers.Dropout(0.3))\n",
    "model.add(keras.layers.Dense(1,activation=\"sigmoid\"))"
   ]
  },
  {
   "cell_type": "code",
   "execution_count": 10,
   "id": "40f289cb",
   "metadata": {
    "execution": {
     "iopub.execute_input": "2023-05-06T10:51:11.413298Z",
     "iopub.status.busy": "2023-05-06T10:51:11.412736Z",
     "iopub.status.idle": "2023-05-06T10:51:11.435918Z",
     "shell.execute_reply": "2023-05-06T10:51:11.434407Z"
    },
    "papermill": {
     "duration": 0.034258,
     "end_time": "2023-05-06T10:51:11.438927",
     "exception": false,
     "start_time": "2023-05-06T10:51:11.404669",
     "status": "completed"
    },
    "tags": []
   },
   "outputs": [],
   "source": [
    "model.compile(optimizer=keras.optimizers.Adam(learning_rate=1e-3),\n",
    "              loss=keras.losses.BinaryCrossentropy(),\n",
    "              metrics=[keras.metrics.BinaryAccuracy()])"
   ]
  },
  {
   "cell_type": "code",
   "execution_count": 11,
   "id": "0d9adc4b",
   "metadata": {
    "execution": {
     "iopub.execute_input": "2023-05-06T10:51:11.453526Z",
     "iopub.status.busy": "2023-05-06T10:51:11.453084Z",
     "iopub.status.idle": "2023-05-06T10:51:51.804873Z",
     "shell.execute_reply": "2023-05-06T10:51:51.803470Z"
    },
    "papermill": {
     "duration": 40.3621,
     "end_time": "2023-05-06T10:51:51.807545",
     "exception": false,
     "start_time": "2023-05-06T10:51:11.445445",
     "status": "completed"
    },
    "tags": []
   },
   "outputs": [
    {
     "name": "stdout",
     "output_type": "stream",
     "text": [
      "Epoch 1/15\n",
      "61/61 [==============================] - 5s 40ms/step - loss: 0.6333 - binary_accuracy: 0.6366\n",
      "Epoch 2/15\n",
      "61/61 [==============================] - 2s 40ms/step - loss: 0.4543 - binary_accuracy: 0.7997\n",
      "Epoch 3/15\n",
      "61/61 [==============================] - 2s 40ms/step - loss: 0.3946 - binary_accuracy: 0.8269\n",
      "Epoch 4/15\n",
      "61/61 [==============================] - 2s 40ms/step - loss: 0.3816 - binary_accuracy: 0.8378\n",
      "Epoch 5/15\n",
      "61/61 [==============================] - 2s 39ms/step - loss: 0.3636 - binary_accuracy: 0.8458\n",
      "Epoch 6/15\n",
      "61/61 [==============================] - 2s 40ms/step - loss: 0.3419 - binary_accuracy: 0.8573\n",
      "Epoch 7/15\n",
      "61/61 [==============================] - 2s 40ms/step - loss: 0.3319 - binary_accuracy: 0.8589\n",
      "Epoch 8/15\n",
      "61/61 [==============================] - 3s 41ms/step - loss: 0.3084 - binary_accuracy: 0.8681\n",
      "Epoch 9/15\n",
      "61/61 [==============================] - 2s 40ms/step - loss: 0.2897 - binary_accuracy: 0.8765\n",
      "Epoch 10/15\n",
      "61/61 [==============================] - 3s 53ms/step - loss: 0.2708 - binary_accuracy: 0.8821\n",
      "Epoch 11/15\n",
      "61/61 [==============================] - 2s 40ms/step - loss: 0.2518 - binary_accuracy: 0.8903\n",
      "Epoch 12/15\n",
      "61/61 [==============================] - 3s 41ms/step - loss: 0.2388 - binary_accuracy: 0.8952\n",
      "Epoch 13/15\n",
      "61/61 [==============================] - 2s 40ms/step - loss: 0.2172 - binary_accuracy: 0.9062\n",
      "Epoch 14/15\n",
      "61/61 [==============================] - 2s 40ms/step - loss: 0.2099 - binary_accuracy: 0.9102\n",
      "Epoch 15/15\n",
      "61/61 [==============================] - 2s 39ms/step - loss: 0.1925 - binary_accuracy: 0.9153\n"
     ]
    },
    {
     "data": {
      "text/plain": [
       "<keras.callbacks.History at 0x74adf65b9350>"
      ]
     },
     "execution_count": 11,
     "metadata": {},
     "output_type": "execute_result"
    }
   ],
   "source": [
    "model.fit(train_sequences,y_train,epochs=15,batch_size=100)"
   ]
  },
  {
   "cell_type": "code",
   "execution_count": 12,
   "id": "84ab8e69",
   "metadata": {
    "execution": {
     "iopub.execute_input": "2023-05-06T10:51:51.885480Z",
     "iopub.status.busy": "2023-05-06T10:51:51.884527Z",
     "iopub.status.idle": "2023-05-06T10:51:52.698994Z",
     "shell.execute_reply": "2023-05-06T10:51:52.698083Z"
    },
    "papermill": {
     "duration": 0.855592,
     "end_time": "2023-05-06T10:51:52.701205",
     "exception": false,
     "start_time": "2023-05-06T10:51:51.845613",
     "status": "completed"
    },
    "tags": []
   },
   "outputs": [
    {
     "name": "stdout",
     "output_type": "stream",
     "text": [
      "8/8 [==============================] - 1s 18ms/step - loss: 1.0421 - binary_accuracy: 0.7551\n"
     ]
    },
    {
     "data": {
      "text/plain": [
       "[1.0421454906463623, 0.7550886273384094]"
      ]
     },
     "execution_count": 12,
     "metadata": {},
     "output_type": "execute_result"
    }
   ],
   "source": [
    "model.evaluate(test_sequences,y_test,batch_size=200)"
   ]
  },
  {
   "cell_type": "markdown",
   "id": "ace333e7",
   "metadata": {
    "papermill": {
     "duration": 0.037155,
     "end_time": "2023-05-06T10:51:52.775710",
     "exception": false,
     "start_time": "2023-05-06T10:51:52.738555",
     "status": "completed"
    },
    "tags": []
   },
   "source": [
    "It is evident that the model is overfitted the train data. for this we should retrain the model with the dropout layers"
   ]
  },
  {
   "cell_type": "markdown",
   "id": "4285a2ca",
   "metadata": {
    "papermill": {
     "duration": 0.037048,
     "end_time": "2023-05-06T10:51:52.849682",
     "exception": false,
     "start_time": "2023-05-06T10:51:52.812634",
     "status": "completed"
    },
    "tags": []
   },
   "source": [
    "**Predicting for the test data**"
   ]
  },
  {
   "cell_type": "code",
   "execution_count": 13,
   "id": "72ddf4f2",
   "metadata": {
    "execution": {
     "iopub.execute_input": "2023-05-06T10:51:52.926403Z",
     "iopub.status.busy": "2023-05-06T10:51:52.925443Z",
     "iopub.status.idle": "2023-05-06T10:51:53.933051Z",
     "shell.execute_reply": "2023-05-06T10:51:53.931760Z"
    },
    "papermill": {
     "duration": 1.049278,
     "end_time": "2023-05-06T10:51:53.936009",
     "exception": false,
     "start_time": "2023-05-06T10:51:52.886731",
     "status": "completed"
    },
    "tags": []
   },
   "outputs": [],
   "source": [
    "columns_to_remove_test = [\"keyword\",\"location\"]\n",
    "test_df = pd.read_csv(r\"/kaggle/input/nlp-getting-started/test.csv\")\n",
    "test_df_to_predict= test_df.drop(columns=columns_to_remove_test)\n",
    "test_submit_sequences = tokenizer_obj.texts_to_sequences(test_df_to_predict[\"text\"].values)\n",
    "test_submit_sequences_padded = pad_sequences(test_submit_sequences,maxlen=sequence_length)\n",
    "\n",
    "predicted_output = model.predict(test_submit_sequences_padded,batch_size=100)"
   ]
  },
  {
   "cell_type": "code",
   "execution_count": 14,
   "id": "6768e5c1",
   "metadata": {
    "execution": {
     "iopub.execute_input": "2023-05-06T10:51:54.011709Z",
     "iopub.status.busy": "2023-05-06T10:51:54.010682Z",
     "iopub.status.idle": "2023-05-06T10:51:54.019653Z",
     "shell.execute_reply": "2023-05-06T10:51:54.018880Z"
    },
    "papermill": {
     "duration": 0.049668,
     "end_time": "2023-05-06T10:51:54.022027",
     "exception": false,
     "start_time": "2023-05-06T10:51:53.972359",
     "status": "completed"
    },
    "tags": []
   },
   "outputs": [],
   "source": [
    "target_df = pd.DataFrame(data=predicted_output,columns=[\"target\"])\n",
    "target_df[\"target\"] = target_df[\"target\"].apply(lambda x: 0 if x<0.5 else 1)"
   ]
  },
  {
   "cell_type": "code",
   "execution_count": 15,
   "id": "0a1a14f8",
   "metadata": {
    "execution": {
     "iopub.execute_input": "2023-05-06T10:51:54.095852Z",
     "iopub.status.busy": "2023-05-06T10:51:54.095090Z",
     "iopub.status.idle": "2023-05-06T10:51:54.102653Z",
     "shell.execute_reply": "2023-05-06T10:51:54.101293Z"
    },
    "papermill": {
     "duration": 0.047466,
     "end_time": "2023-05-06T10:51:54.105094",
     "exception": false,
     "start_time": "2023-05-06T10:51:54.057628",
     "status": "completed"
    },
    "tags": []
   },
   "outputs": [],
   "source": [
    "test_df_predicted = pd.concat([test_df_to_predict,target_df],axis=1)\n",
    "test_submission = test_df_predicted.drop(columns=[\"text\"])"
   ]
  },
  {
   "cell_type": "code",
   "execution_count": 16,
   "id": "aca050ae",
   "metadata": {
    "execution": {
     "iopub.execute_input": "2023-05-06T10:51:54.181175Z",
     "iopub.status.busy": "2023-05-06T10:51:54.179880Z",
     "iopub.status.idle": "2023-05-06T10:51:54.195282Z",
     "shell.execute_reply": "2023-05-06T10:51:54.193870Z"
    },
    "papermill": {
     "duration": 0.057149,
     "end_time": "2023-05-06T10:51:54.197633",
     "exception": false,
     "start_time": "2023-05-06T10:51:54.140484",
     "status": "completed"
    },
    "tags": []
   },
   "outputs": [
    {
     "data": {
      "text/html": [
       "<div>\n",
       "<style scoped>\n",
       "    .dataframe tbody tr th:only-of-type {\n",
       "        vertical-align: middle;\n",
       "    }\n",
       "\n",
       "    .dataframe tbody tr th {\n",
       "        vertical-align: top;\n",
       "    }\n",
       "\n",
       "    .dataframe thead th {\n",
       "        text-align: right;\n",
       "    }\n",
       "</style>\n",
       "<table border=\"1\" class=\"dataframe\">\n",
       "  <thead>\n",
       "    <tr style=\"text-align: right;\">\n",
       "      <th></th>\n",
       "      <th>id</th>\n",
       "      <th>target</th>\n",
       "    </tr>\n",
       "  </thead>\n",
       "  <tbody>\n",
       "    <tr>\n",
       "      <th>0</th>\n",
       "      <td>0</td>\n",
       "      <td>1</td>\n",
       "    </tr>\n",
       "    <tr>\n",
       "      <th>1</th>\n",
       "      <td>2</td>\n",
       "      <td>1</td>\n",
       "    </tr>\n",
       "    <tr>\n",
       "      <th>2</th>\n",
       "      <td>3</td>\n",
       "      <td>1</td>\n",
       "    </tr>\n",
       "    <tr>\n",
       "      <th>3</th>\n",
       "      <td>9</td>\n",
       "      <td>0</td>\n",
       "    </tr>\n",
       "    <tr>\n",
       "      <th>4</th>\n",
       "      <td>11</td>\n",
       "      <td>1</td>\n",
       "    </tr>\n",
       "  </tbody>\n",
       "</table>\n",
       "</div>"
      ],
      "text/plain": [
       "   id  target\n",
       "0   0       1\n",
       "1   2       1\n",
       "2   3       1\n",
       "3   9       0\n",
       "4  11       1"
      ]
     },
     "execution_count": 16,
     "metadata": {},
     "output_type": "execute_result"
    }
   ],
   "source": [
    "test_submission.head()"
   ]
  },
  {
   "cell_type": "code",
   "execution_count": 17,
   "id": "d97abc16",
   "metadata": {
    "execution": {
     "iopub.execute_input": "2023-05-06T10:51:54.273049Z",
     "iopub.status.busy": "2023-05-06T10:51:54.271543Z",
     "iopub.status.idle": "2023-05-06T10:51:54.286073Z",
     "shell.execute_reply": "2023-05-06T10:51:54.284728Z"
    },
    "papermill": {
     "duration": 0.055357,
     "end_time": "2023-05-06T10:51:54.288924",
     "exception": false,
     "start_time": "2023-05-06T10:51:54.233567",
     "status": "completed"
    },
    "tags": []
   },
   "outputs": [],
   "source": [
    "test_submission.to_csv(r\"/kaggle/working/submission.csv\",index=False)"
   ]
  },
  {
   "cell_type": "code",
   "execution_count": 18,
   "id": "efe1a0a3",
   "metadata": {
    "execution": {
     "iopub.execute_input": "2023-05-06T10:51:54.362458Z",
     "iopub.status.busy": "2023-05-06T10:51:54.362052Z",
     "iopub.status.idle": "2023-05-06T10:51:54.403964Z",
     "shell.execute_reply": "2023-05-06T10:51:54.402705Z"
    },
    "papermill": {
     "duration": 0.081895,
     "end_time": "2023-05-06T10:51:54.406726",
     "exception": false,
     "start_time": "2023-05-06T10:51:54.324831",
     "status": "completed"
    },
    "tags": []
   },
   "outputs": [],
   "source": [
    "model.save(\"nlp_disaster_prediction_model.h5\")"
   ]
  },
  {
   "cell_type": "code",
   "execution_count": null,
   "id": "8f38e80e",
   "metadata": {
    "papermill": {
     "duration": 0.036689,
     "end_time": "2023-05-06T10:51:54.479497",
     "exception": false,
     "start_time": "2023-05-06T10:51:54.442808",
     "status": "completed"
    },
    "tags": []
   },
   "outputs": [],
   "source": []
  }
 ],
 "metadata": {
  "kernelspec": {
   "display_name": "Python 3",
   "language": "python",
   "name": "python3"
  },
  "language_info": {
   "codemirror_mode": {
    "name": "ipython",
    "version": 3
   },
   "file_extension": ".py",
   "mimetype": "text/x-python",
   "name": "python",
   "nbconvert_exporter": "python",
   "pygments_lexer": "ipython3",
   "version": "3.7.12"
  },
  "papermill": {
   "default_parameters": {},
   "duration": 65.720351,
   "end_time": "2023-05-06T10:51:57.375489",
   "environment_variables": {},
   "exception": null,
   "input_path": "__notebook__.ipynb",
   "output_path": "__notebook__.ipynb",
   "parameters": {},
   "start_time": "2023-05-06T10:50:51.655138",
   "version": "2.3.4"
  }
 },
 "nbformat": 4,
 "nbformat_minor": 5
}
