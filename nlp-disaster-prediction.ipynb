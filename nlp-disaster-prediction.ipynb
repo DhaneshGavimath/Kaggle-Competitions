{
 "cells": [
  {
   "cell_type": "code",
   "execution_count": 1,
   "id": "5a2b96c6",
   "metadata": {
    "_cell_guid": "b1076dfc-b9ad-4769-8c92-a6c4dae69d19",
    "_uuid": "8f2839f25d086af736a60e9eeb907d3b93b6e0e5",
    "execution": {
     "iopub.execute_input": "2023-07-05T23:48:00.841975Z",
     "iopub.status.busy": "2023-07-05T23:48:00.841484Z",
     "iopub.status.idle": "2023-07-05T23:48:00.854271Z",
     "shell.execute_reply": "2023-07-05T23:48:00.853520Z"
    },
    "papermill": {
     "duration": 0.026317,
     "end_time": "2023-07-05T23:48:00.856564",
     "exception": false,
     "start_time": "2023-07-05T23:48:00.830247",
     "status": "completed"
    },
    "tags": []
   },
   "outputs": [
    {
     "name": "stdout",
     "output_type": "stream",
     "text": [
      "/kaggle/input/nlp-getting-started/sample_submission.csv\n",
      "/kaggle/input/nlp-getting-started/train.csv\n",
      "/kaggle/input/nlp-getting-started/test.csv\n"
     ]
    }
   ],
   "source": [
    "# This Python 3 environment comes with many helpful analytics libraries installed\n",
    "# It is defined by the kaggle/python Docker image: https://github.com/kaggle/docker-python\n",
    "# For example, here's several helpful packages to load\n",
    "\n",
    "import numpy as np # linear algebra\n",
    "import pandas as pd # data processing, CSV file I/O (e.g. pd.read_csv)\n",
    "\n",
    "# Input data files are available in the read-only \"../input/\" directory\n",
    "# For example, running this (by clicking run or pressing Shift+Enter) will list all files under the input directory\n",
    "\n",
    "import os\n",
    "for dirname, _, filenames in os.walk('/kaggle/input'):\n",
    "    for filename in filenames:\n",
    "        print(os.path.join(dirname, filename))\n",
    "\n",
    "# You can write up to 20GB to the current directory (/kaggle/working/) that gets preserved as output when you create a version using \"Save & Run All\" \n",
    "# You can also write temporary files to /kaggle/temp/, but they won't be saved outside of the current session"
   ]
  },
  {
   "cell_type": "code",
   "execution_count": 2,
   "id": "c7039b35",
   "metadata": {
    "execution": {
     "iopub.execute_input": "2023-07-05T23:48:00.875858Z",
     "iopub.status.busy": "2023-07-05T23:48:00.875176Z",
     "iopub.status.idle": "2023-07-05T23:48:00.880301Z",
     "shell.execute_reply": "2023-07-05T23:48:00.879302Z"
    },
    "papermill": {
     "duration": 0.016722,
     "end_time": "2023-07-05T23:48:00.882332",
     "exception": false,
     "start_time": "2023-07-05T23:48:00.865610",
     "status": "completed"
    },
    "tags": []
   },
   "outputs": [],
   "source": [
    "pd.set_option('max_colwidth', None)"
   ]
  },
  {
   "cell_type": "code",
   "execution_count": 3,
   "id": "3958b5a7",
   "metadata": {
    "execution": {
     "iopub.execute_input": "2023-07-05T23:48:00.900026Z",
     "iopub.status.busy": "2023-07-05T23:48:00.899674Z",
     "iopub.status.idle": "2023-07-05T23:48:00.974427Z",
     "shell.execute_reply": "2023-07-05T23:48:00.973043Z"
    },
    "papermill": {
     "duration": 0.086577,
     "end_time": "2023-07-05T23:48:00.977250",
     "exception": false,
     "start_time": "2023-07-05T23:48:00.890673",
     "status": "completed"
    },
    "tags": []
   },
   "outputs": [],
   "source": [
    "#lets's import the datasets\n",
    "train_df = pd.read_csv(r\"/kaggle/input/nlp-getting-started/train.csv\")\n",
    "test_df = pd.read_csv(r\"/kaggle/input/nlp-getting-started/test.csv\")\n",
    "sample_submission_df = pd.read_csv(r\"/kaggle/input/nlp-getting-started/sample_submission.csv\")\n"
   ]
  },
  {
   "cell_type": "code",
   "execution_count": 4,
   "id": "65ed851b",
   "metadata": {
    "execution": {
     "iopub.execute_input": "2023-07-05T23:48:00.996365Z",
     "iopub.status.busy": "2023-07-05T23:48:00.995835Z",
     "iopub.status.idle": "2023-07-05T23:48:01.014732Z",
     "shell.execute_reply": "2023-07-05T23:48:01.013898Z"
    },
    "papermill": {
     "duration": 0.030942,
     "end_time": "2023-07-05T23:48:01.016863",
     "exception": false,
     "start_time": "2023-07-05T23:48:00.985921",
     "status": "completed"
    },
    "tags": []
   },
   "outputs": [
    {
     "data": {
      "text/html": [
       "<div>\n",
       "<style scoped>\n",
       "    .dataframe tbody tr th:only-of-type {\n",
       "        vertical-align: middle;\n",
       "    }\n",
       "\n",
       "    .dataframe tbody tr th {\n",
       "        vertical-align: top;\n",
       "    }\n",
       "\n",
       "    .dataframe thead th {\n",
       "        text-align: right;\n",
       "    }\n",
       "</style>\n",
       "<table border=\"1\" class=\"dataframe\">\n",
       "  <thead>\n",
       "    <tr style=\"text-align: right;\">\n",
       "      <th></th>\n",
       "      <th>id</th>\n",
       "      <th>keyword</th>\n",
       "      <th>location</th>\n",
       "      <th>text</th>\n",
       "    </tr>\n",
       "  </thead>\n",
       "  <tbody>\n",
       "    <tr>\n",
       "      <th>0</th>\n",
       "      <td>0</td>\n",
       "      <td>NaN</td>\n",
       "      <td>NaN</td>\n",
       "      <td>Just happened a terrible car crash</td>\n",
       "    </tr>\n",
       "    <tr>\n",
       "      <th>1</th>\n",
       "      <td>2</td>\n",
       "      <td>NaN</td>\n",
       "      <td>NaN</td>\n",
       "      <td>Heard about #earthquake is different cities, stay safe everyone.</td>\n",
       "    </tr>\n",
       "    <tr>\n",
       "      <th>2</th>\n",
       "      <td>3</td>\n",
       "      <td>NaN</td>\n",
       "      <td>NaN</td>\n",
       "      <td>there is a forest fire at spot pond, geese are fleeing across the street, I cannot save them all</td>\n",
       "    </tr>\n",
       "    <tr>\n",
       "      <th>3</th>\n",
       "      <td>9</td>\n",
       "      <td>NaN</td>\n",
       "      <td>NaN</td>\n",
       "      <td>Apocalypse lighting. #Spokane #wildfires</td>\n",
       "    </tr>\n",
       "    <tr>\n",
       "      <th>4</th>\n",
       "      <td>11</td>\n",
       "      <td>NaN</td>\n",
       "      <td>NaN</td>\n",
       "      <td>Typhoon Soudelor kills 28 in China and Taiwan</td>\n",
       "    </tr>\n",
       "  </tbody>\n",
       "</table>\n",
       "</div>"
      ],
      "text/plain": [
       "   id keyword location  \\\n",
       "0   0     NaN      NaN   \n",
       "1   2     NaN      NaN   \n",
       "2   3     NaN      NaN   \n",
       "3   9     NaN      NaN   \n",
       "4  11     NaN      NaN   \n",
       "\n",
       "                                                                                               text  \n",
       "0                                                                Just happened a terrible car crash  \n",
       "1                                  Heard about #earthquake is different cities, stay safe everyone.  \n",
       "2  there is a forest fire at spot pond, geese are fleeing across the street, I cannot save them all  \n",
       "3                                                          Apocalypse lighting. #Spokane #wildfires  \n",
       "4                                                     Typhoon Soudelor kills 28 in China and Taiwan  "
      ]
     },
     "execution_count": 4,
     "metadata": {},
     "output_type": "execute_result"
    }
   ],
   "source": [
    "test_df.head()"
   ]
  },
  {
   "cell_type": "code",
   "execution_count": 5,
   "id": "a12d4d38",
   "metadata": {
    "execution": {
     "iopub.execute_input": "2023-07-05T23:48:01.037688Z",
     "iopub.status.busy": "2023-07-05T23:48:01.037049Z",
     "iopub.status.idle": "2023-07-05T23:48:01.042807Z",
     "shell.execute_reply": "2023-07-05T23:48:01.041990Z"
    },
    "papermill": {
     "duration": 0.01822,
     "end_time": "2023-07-05T23:48:01.045423",
     "exception": false,
     "start_time": "2023-07-05T23:48:01.027203",
     "status": "completed"
    },
    "tags": []
   },
   "outputs": [
    {
     "data": {
      "text/plain": [
       "(3263, 4)"
      ]
     },
     "execution_count": 5,
     "metadata": {},
     "output_type": "execute_result"
    }
   ],
   "source": [
    "test_df.shape"
   ]
  },
  {
   "cell_type": "markdown",
   "id": "4110e42b",
   "metadata": {
    "papermill": {
     "duration": 0.008281,
     "end_time": "2023-07-05T23:48:01.062457",
     "exception": false,
     "start_time": "2023-07-05T23:48:01.054176",
     "status": "completed"
    },
    "tags": []
   },
   "source": [
    "# **Splitting the Data**\n",
    "*we have separate train and test data. let's keep some train data for validation to check overfit or undefit.*\n"
   ]
  },
  {
   "cell_type": "code",
   "execution_count": 6,
   "id": "701c0ca2",
   "metadata": {
    "execution": {
     "iopub.execute_input": "2023-07-05T23:48:01.081465Z",
     "iopub.status.busy": "2023-07-05T23:48:01.080830Z",
     "iopub.status.idle": "2023-07-05T23:48:02.125537Z",
     "shell.execute_reply": "2023-07-05T23:48:02.124118Z"
    },
    "papermill": {
     "duration": 1.056966,
     "end_time": "2023-07-05T23:48:02.127947",
     "exception": false,
     "start_time": "2023-07-05T23:48:01.070981",
     "status": "completed"
    },
    "tags": []
   },
   "outputs": [
    {
     "name": "stdout",
     "output_type": "stream",
     "text": [
      "(7613, 1)\n",
      "(7613,)\n"
     ]
    }
   ],
   "source": [
    "from sklearn.model_selection import train_test_split\n",
    "X = train_df.drop(\"target\", axis=1)\n",
    "y = train_df[\"target\"]\n",
    "\n",
    "columns_to_remove = [\"id\",\"keyword\",\"location\"]\n",
    "X = X.drop(columns=columns_to_remove)\n",
    "\n",
    "print(X.shape)\n",
    "print(y.shape)"
   ]
  },
  {
   "cell_type": "code",
   "execution_count": 7,
   "id": "10756093",
   "metadata": {
    "execution": {
     "iopub.execute_input": "2023-07-05T23:48:02.147476Z",
     "iopub.status.busy": "2023-07-05T23:48:02.146838Z",
     "iopub.status.idle": "2023-07-05T23:48:02.159334Z",
     "shell.execute_reply": "2023-07-05T23:48:02.158544Z"
    },
    "papermill": {
     "duration": 0.024882,
     "end_time": "2023-07-05T23:48:02.161628",
     "exception": false,
     "start_time": "2023-07-05T23:48:02.136746",
     "status": "completed"
    },
    "tags": []
   },
   "outputs": [],
   "source": [
    "X_train,X_test, y_train, y_test = train_test_split(X,y,test_size=0.25,random_state=50, stratify=y)"
   ]
  },
  {
   "cell_type": "code",
   "execution_count": 8,
   "id": "56648b27",
   "metadata": {
    "execution": {
     "iopub.execute_input": "2023-07-05T23:48:02.180325Z",
     "iopub.status.busy": "2023-07-05T23:48:02.179947Z",
     "iopub.status.idle": "2023-07-05T23:48:02.188024Z",
     "shell.execute_reply": "2023-07-05T23:48:02.187196Z"
    },
    "papermill": {
     "duration": 0.019809,
     "end_time": "2023-07-05T23:48:02.190154",
     "exception": false,
     "start_time": "2023-07-05T23:48:02.170345",
     "status": "completed"
    },
    "tags": []
   },
   "outputs": [
    {
     "data": {
      "text/plain": [
       "3885    Today (August 6th) is the 70th anniversary of A-Bomb 'Little Boy' been dropped on Hiroshima.70000 killed outright as the city was flattened\n",
       "6819                                                                                          salute to all the kids still trapped in adult bodies.\n",
       "2220           Back on the beach after the deluge.  Surf camp in motion.  Our Surf Therapy programme kicked off today for... http://t.co/vjsAqPxngN\n",
       "4318                             The Prophet (peace be upon him) said 'Save yourself from Hellfire even if it is by giving half a date in charity.'\n",
       "6972                                              Meet Brinco your own personal earthquake snd tsunami early warning beacon. http://t.co/NXkUM9h7wD\n",
       "Name: text, dtype: object"
      ]
     },
     "execution_count": 8,
     "metadata": {},
     "output_type": "execute_result"
    }
   ],
   "source": [
    "X_train[\"text\"].head()"
   ]
  },
  {
   "cell_type": "code",
   "execution_count": 9,
   "id": "d98fad68",
   "metadata": {
    "execution": {
     "iopub.execute_input": "2023-07-05T23:48:02.209609Z",
     "iopub.status.busy": "2023-07-05T23:48:02.208958Z",
     "iopub.status.idle": "2023-07-05T23:48:02.214042Z",
     "shell.execute_reply": "2023-07-05T23:48:02.212912Z"
    },
    "papermill": {
     "duration": 0.017459,
     "end_time": "2023-07-05T23:48:02.216315",
     "exception": false,
     "start_time": "2023-07-05T23:48:02.198856",
     "status": "completed"
    },
    "tags": []
   },
   "outputs": [
    {
     "name": "stdout",
     "output_type": "stream",
     "text": [
      "(5709, 1)\n",
      "(1904, 1)\n"
     ]
    }
   ],
   "source": [
    "print(X_train.shape)\n",
    "print(X_test.shape)"
   ]
  },
  {
   "cell_type": "code",
   "execution_count": 10,
   "id": "9b89e34d",
   "metadata": {
    "execution": {
     "iopub.execute_input": "2023-07-05T23:48:02.235722Z",
     "iopub.status.busy": "2023-07-05T23:48:02.235032Z",
     "iopub.status.idle": "2023-07-05T23:48:02.250943Z",
     "shell.execute_reply": "2023-07-05T23:48:02.250158Z"
    },
    "papermill": {
     "duration": 0.027723,
     "end_time": "2023-07-05T23:48:02.252939",
     "exception": false,
     "start_time": "2023-07-05T23:48:02.225216",
     "status": "completed"
    },
    "tags": []
   },
   "outputs": [
    {
     "data": {
      "text/html": [
       "<div>\n",
       "<style scoped>\n",
       "    .dataframe tbody tr th:only-of-type {\n",
       "        vertical-align: middle;\n",
       "    }\n",
       "\n",
       "    .dataframe tbody tr th {\n",
       "        vertical-align: top;\n",
       "    }\n",
       "\n",
       "    .dataframe thead th {\n",
       "        text-align: right;\n",
       "    }\n",
       "</style>\n",
       "<table border=\"1\" class=\"dataframe\">\n",
       "  <thead>\n",
       "    <tr style=\"text-align: right;\">\n",
       "      <th></th>\n",
       "      <th>id</th>\n",
       "      <th>keyword</th>\n",
       "      <th>location</th>\n",
       "      <th>text</th>\n",
       "      <th>target</th>\n",
       "    </tr>\n",
       "  </thead>\n",
       "  <tbody>\n",
       "    <tr>\n",
       "      <th>0</th>\n",
       "      <td>1</td>\n",
       "      <td>NaN</td>\n",
       "      <td>NaN</td>\n",
       "      <td>Our Deeds are the Reason of this #earthquake May ALLAH Forgive us all</td>\n",
       "      <td>1</td>\n",
       "    </tr>\n",
       "    <tr>\n",
       "      <th>1</th>\n",
       "      <td>4</td>\n",
       "      <td>NaN</td>\n",
       "      <td>NaN</td>\n",
       "      <td>Forest fire near La Ronge Sask. Canada</td>\n",
       "      <td>1</td>\n",
       "    </tr>\n",
       "    <tr>\n",
       "      <th>2</th>\n",
       "      <td>5</td>\n",
       "      <td>NaN</td>\n",
       "      <td>NaN</td>\n",
       "      <td>All residents asked to 'shelter in place' are being notified by officers. No other evacuation or shelter in place orders are expected</td>\n",
       "      <td>1</td>\n",
       "    </tr>\n",
       "    <tr>\n",
       "      <th>3</th>\n",
       "      <td>6</td>\n",
       "      <td>NaN</td>\n",
       "      <td>NaN</td>\n",
       "      <td>13,000 people receive #wildfires evacuation orders in California</td>\n",
       "      <td>1</td>\n",
       "    </tr>\n",
       "    <tr>\n",
       "      <th>4</th>\n",
       "      <td>7</td>\n",
       "      <td>NaN</td>\n",
       "      <td>NaN</td>\n",
       "      <td>Just got sent this photo from Ruby #Alaska as smoke from #wildfires pours into a school</td>\n",
       "      <td>1</td>\n",
       "    </tr>\n",
       "    <tr>\n",
       "      <th>...</th>\n",
       "      <td>...</td>\n",
       "      <td>...</td>\n",
       "      <td>...</td>\n",
       "      <td>...</td>\n",
       "      <td>...</td>\n",
       "    </tr>\n",
       "    <tr>\n",
       "      <th>7608</th>\n",
       "      <td>10869</td>\n",
       "      <td>NaN</td>\n",
       "      <td>NaN</td>\n",
       "      <td>Two giant cranes holding a bridge collapse into nearby homes http://t.co/STfMbbZFB5</td>\n",
       "      <td>1</td>\n",
       "    </tr>\n",
       "    <tr>\n",
       "      <th>7609</th>\n",
       "      <td>10870</td>\n",
       "      <td>NaN</td>\n",
       "      <td>NaN</td>\n",
       "      <td>@aria_ahrary @TheTawniest The out of control wild fires in California even in the Northern part of the state. Very troubling.</td>\n",
       "      <td>1</td>\n",
       "    </tr>\n",
       "    <tr>\n",
       "      <th>7610</th>\n",
       "      <td>10871</td>\n",
       "      <td>NaN</td>\n",
       "      <td>NaN</td>\n",
       "      <td>M1.94 [01:04 UTC]?5km S of Volcano Hawaii. http://t.co/zDtoyd8EbJ</td>\n",
       "      <td>1</td>\n",
       "    </tr>\n",
       "    <tr>\n",
       "      <th>7611</th>\n",
       "      <td>10872</td>\n",
       "      <td>NaN</td>\n",
       "      <td>NaN</td>\n",
       "      <td>Police investigating after an e-bike collided with a car in Little Portugal. E-bike rider suffered serious non-life threatening injuries.</td>\n",
       "      <td>1</td>\n",
       "    </tr>\n",
       "    <tr>\n",
       "      <th>7612</th>\n",
       "      <td>10873</td>\n",
       "      <td>NaN</td>\n",
       "      <td>NaN</td>\n",
       "      <td>The Latest: More Homes Razed by Northern California Wildfire - ABC News http://t.co/YmY4rSkQ3d</td>\n",
       "      <td>1</td>\n",
       "    </tr>\n",
       "  </tbody>\n",
       "</table>\n",
       "<p>3271 rows × 5 columns</p>\n",
       "</div>"
      ],
      "text/plain": [
       "         id keyword location  \\\n",
       "0         1     NaN      NaN   \n",
       "1         4     NaN      NaN   \n",
       "2         5     NaN      NaN   \n",
       "3         6     NaN      NaN   \n",
       "4         7     NaN      NaN   \n",
       "...     ...     ...      ...   \n",
       "7608  10869     NaN      NaN   \n",
       "7609  10870     NaN      NaN   \n",
       "7610  10871     NaN      NaN   \n",
       "7611  10872     NaN      NaN   \n",
       "7612  10873     NaN      NaN   \n",
       "\n",
       "                                                                                                                                           text  \\\n",
       "0                                                                         Our Deeds are the Reason of this #earthquake May ALLAH Forgive us all   \n",
       "1                                                                                                        Forest fire near La Ronge Sask. Canada   \n",
       "2         All residents asked to 'shelter in place' are being notified by officers. No other evacuation or shelter in place orders are expected   \n",
       "3                                                                             13,000 people receive #wildfires evacuation orders in California    \n",
       "4                                                      Just got sent this photo from Ruby #Alaska as smoke from #wildfires pours into a school    \n",
       "...                                                                                                                                         ...   \n",
       "7608                                                        Two giant cranes holding a bridge collapse into nearby homes http://t.co/STfMbbZFB5   \n",
       "7609              @aria_ahrary @TheTawniest The out of control wild fires in California even in the Northern part of the state. Very troubling.   \n",
       "7610                                                                          M1.94 [01:04 UTC]?5km S of Volcano Hawaii. http://t.co/zDtoyd8EbJ   \n",
       "7611  Police investigating after an e-bike collided with a car in Little Portugal. E-bike rider suffered serious non-life threatening injuries.   \n",
       "7612                                             The Latest: More Homes Razed by Northern California Wildfire - ABC News http://t.co/YmY4rSkQ3d   \n",
       "\n",
       "      target  \n",
       "0          1  \n",
       "1          1  \n",
       "2          1  \n",
       "3          1  \n",
       "4          1  \n",
       "...      ...  \n",
       "7608       1  \n",
       "7609       1  \n",
       "7610       1  \n",
       "7611       1  \n",
       "7612       1  \n",
       "\n",
       "[3271 rows x 5 columns]"
      ]
     },
     "execution_count": 10,
     "metadata": {},
     "output_type": "execute_result"
    }
   ],
   "source": [
    "pd.set_option('max_colwidth', None)\n",
    "train_df[train_df['target']> 0.0] "
   ]
  },
  {
   "cell_type": "markdown",
   "id": "b1dccdd5",
   "metadata": {
    "papermill": {
     "duration": 0.008953,
     "end_time": "2023-07-05T23:48:02.271156",
     "exception": false,
     "start_time": "2023-07-05T23:48:02.262203",
     "status": "completed"
    },
    "tags": []
   },
   "source": [
    "*Creating vocabulary for train and test data using keras*"
   ]
  },
  {
   "cell_type": "code",
   "execution_count": 11,
   "id": "8817a01d",
   "metadata": {
    "execution": {
     "iopub.execute_input": "2023-07-05T23:48:02.291643Z",
     "iopub.status.busy": "2023-07-05T23:48:02.290944Z",
     "iopub.status.idle": "2023-07-05T23:48:08.336900Z",
     "shell.execute_reply": "2023-07-05T23:48:08.335661Z"
    },
    "papermill": {
     "duration": 6.059826,
     "end_time": "2023-07-05T23:48:08.340127",
     "exception": false,
     "start_time": "2023-07-05T23:48:02.280301",
     "status": "completed"
    },
    "tags": []
   },
   "outputs": [],
   "source": [
    "from nltk.tokenize import word_tokenize\n",
    "import tensorflow as tf\n",
    "from tensorflow import keras\n",
    "from tensorflow.keras import regularizers\n",
    "\n",
    "from keras.preprocessing.text import Tokenizer\n",
    "from keras_preprocessing.sequence import pad_sequences\n",
    "\n",
    "from tensorflow.keras.metrics import Recall, Precision\n",
    "from sklearn.metrics import confusion_matrix as CFM\n",
    "\n",
    "import re"
   ]
  },
  {
   "cell_type": "markdown",
   "id": "815cc40d",
   "metadata": {
    "papermill": {
     "duration": 0.009016,
     "end_time": "2023-07-05T23:48:08.358576",
     "exception": false,
     "start_time": "2023-07-05T23:48:08.349560",
     "status": "completed"
    },
    "tags": []
   },
   "source": [
    "# **Text Preprocessing**\n",
    "1. We will be replacing the special characters\n",
    "2. Separating the attached words. \n",
    "    eg. **ThatGuy** to **That Guy**\n"
   ]
  },
  {
   "cell_type": "code",
   "execution_count": 12,
   "id": "55b2f92c",
   "metadata": {
    "execution": {
     "iopub.execute_input": "2023-07-05T23:48:08.379137Z",
     "iopub.status.busy": "2023-07-05T23:48:08.378039Z",
     "iopub.status.idle": "2023-07-05T23:48:08.541204Z",
     "shell.execute_reply": "2023-07-05T23:48:08.540254Z"
    },
    "papermill": {
     "duration": 0.176078,
     "end_time": "2023-07-05T23:48:08.543712",
     "exception": false,
     "start_time": "2023-07-05T23:48:08.367634",
     "status": "completed"
    },
    "tags": []
   },
   "outputs": [],
   "source": [
    "# X_train[\"text\"].apply(word_tokenize).map(len).plot(kind=\"bar\")\n",
    "def replace_special_char(sentence):\n",
    "    pattern = re.compile(r\"[^A-Z \\s]\",flags=re.IGNORECASE)\n",
    "    sentence,_ = re.subn(pattern,' ',sentence,count=50)\n",
    "    return sentence\n",
    "\n",
    "def replace_Aa_with_Aaspace(sentence, words):\n",
    "    for word in words:\n",
    "        sentence = sentence.replace(word, \" \"+word)\n",
    "    return sentence\n",
    "    \n",
    " \n",
    "def separarate_attached_words(sentence):\n",
    "    pattern = re.compile(r\"[A-Z][^A-Z]*?\")\n",
    "    words = re.findall(pattern,sentence)\n",
    "    sentence = replace_Aa_with_Aaspace(sentence, words)\n",
    "    return sentence\n",
    "    \n",
    "# X_train[\"text\"] = X_train[\"text\"].apply(lambda x: x.replace('#',''))\n",
    "# X_test['text'] = X_test['text'].apply(lambda x: x.replace('#',''))\n",
    "\n",
    "def text_preprocess(text):\n",
    "    text = replace_special_char(text)\n",
    "    text = separarate_attached_words(text)\n",
    "    text = text.lower()\n",
    "    return text\n",
    "    \n",
    "X_train[\"text\"] = X_train[\"text\"].apply(text_preprocess)\n",
    "X_test['text'] = X_test['text'].apply(text_preprocess)\n",
    "\n"
   ]
  },
  {
   "cell_type": "code",
   "execution_count": 13,
   "id": "f18ad7b4",
   "metadata": {
    "execution": {
     "iopub.execute_input": "2023-07-05T23:48:08.564299Z",
     "iopub.status.busy": "2023-07-05T23:48:08.563572Z",
     "iopub.status.idle": "2023-07-05T23:48:08.573562Z",
     "shell.execute_reply": "2023-07-05T23:48:08.572416Z"
    },
    "papermill": {
     "duration": 0.022786,
     "end_time": "2023-07-05T23:48:08.576032",
     "exception": false,
     "start_time": "2023-07-05T23:48:08.553246",
     "status": "completed"
    },
    "tags": []
   },
   "outputs": [
    {
     "data": {
      "text/html": [
       "<div>\n",
       "<style scoped>\n",
       "    .dataframe tbody tr th:only-of-type {\n",
       "        vertical-align: middle;\n",
       "    }\n",
       "\n",
       "    .dataframe tbody tr th {\n",
       "        vertical-align: top;\n",
       "    }\n",
       "\n",
       "    .dataframe thead th {\n",
       "        text-align: right;\n",
       "    }\n",
       "</style>\n",
       "<table border=\"1\" class=\"dataframe\">\n",
       "  <thead>\n",
       "    <tr style=\"text-align: right;\">\n",
       "      <th></th>\n",
       "      <th>text</th>\n",
       "    </tr>\n",
       "  </thead>\n",
       "  <tbody>\n",
       "    <tr>\n",
       "      <th>4193</th>\n",
       "      <td>that persian  guy   y o u n  g s a f  e      eden   hazard as   harden is spot on flopping is identical</td>\n",
       "    </tr>\n",
       "    <tr>\n",
       "      <th>3703</th>\n",
       "      <td>my biggest fear is disappointing the people who believe in me</td>\n",
       "    </tr>\n",
       "    <tr>\n",
       "      <th>4601</th>\n",
       "      <td>traffic  collision    no    injury     i      s at    i      s   rd  ave offramp     south     sac http   t co c  t ej xo lpu</td>\n",
       "    </tr>\n",
       "    <tr>\n",
       "      <th>2925</th>\n",
       "      <td>http   t co  mo  a q   au  fa  jacksonville family bands together as memorial is planned for toddler who         florida    http   t co  n k ou z ww r t</td>\n",
       "    </tr>\n",
       "    <tr>\n",
       "      <th>1595</th>\n",
       "      <td>now playing     cliff   richard      i   could  easily  fall     in   love   with  you    amp   shadows        internet    nieuws    radio  on http   t co    lk m  wp qzw</td>\n",
       "    </tr>\n",
       "  </tbody>\n",
       "</table>\n",
       "</div>"
      ],
      "text/plain": [
       "                                                                                                                                                                               text\n",
       "4193                                                                        that persian  guy   y o u n  g s a f  e      eden   hazard as   harden is spot on flopping is identical\n",
       "3703                                                                                                                  my biggest fear is disappointing the people who believe in me\n",
       "4601                                                  traffic  collision    no    injury     i      s at    i      s   rd  ave offramp     south     sac http   t co c  t ej xo lpu\n",
       "2925                       http   t co  mo  a q   au  fa  jacksonville family bands together as memorial is planned for toddler who         florida    http   t co  n k ou z ww r t\n",
       "1595     now playing     cliff   richard      i   could  easily  fall     in   love   with  you    amp   shadows        internet    nieuws    radio  on http   t co    lk m  wp qzw"
      ]
     },
     "execution_count": 13,
     "metadata": {},
     "output_type": "execute_result"
    }
   ],
   "source": [
    "X_test.head()\n"
   ]
  },
  {
   "cell_type": "code",
   "execution_count": 14,
   "id": "02156877",
   "metadata": {
    "execution": {
     "iopub.execute_input": "2023-07-05T23:48:08.596756Z",
     "iopub.status.busy": "2023-07-05T23:48:08.596359Z",
     "iopub.status.idle": "2023-07-05T23:48:08.943659Z",
     "shell.execute_reply": "2023-07-05T23:48:08.942704Z"
    },
    "papermill": {
     "duration": 0.360616,
     "end_time": "2023-07-05T23:48:08.946335",
     "exception": false,
     "start_time": "2023-07-05T23:48:08.585719",
     "status": "completed"
    },
    "tags": []
   },
   "outputs": [],
   "source": [
    "vocab_length = 20000\n",
    "tokenizer_obj = Tokenizer(num_words=vocab_length,oov_token=\"<oov>\")\n",
    "\n",
    "tokenizer_obj.fit_on_texts(X_train['text'].values)\n",
    "# We will fit the tokenizer on train and use the same on test to make sequences\n",
    "# print(tokenizer_obj.word_index)\n",
    "\n",
    "train_sequences = tokenizer_obj.texts_to_sequences(X_train['text'].values)\n",
    "# representing each word in a sentence/record with index value of it in a vocab learnt buy tokenizer\n",
    "test_sequences = tokenizer_obj.texts_to_sequences(X_test['text'].values)"
   ]
  },
  {
   "cell_type": "markdown",
   "id": "650cf082",
   "metadata": {
    "papermill": {
     "duration": 0.009152,
     "end_time": "2023-07-05T23:48:08.965255",
     "exception": false,
     "start_time": "2023-07-05T23:48:08.956103",
     "status": "completed"
    },
    "tags": []
   },
   "source": [
    "*padding vectors/sequences generated for different length sentences to have a same length*"
   ]
  },
  {
   "cell_type": "code",
   "execution_count": 15,
   "id": "61ff5894",
   "metadata": {
    "execution": {
     "iopub.execute_input": "2023-07-05T23:48:08.986197Z",
     "iopub.status.busy": "2023-07-05T23:48:08.985322Z",
     "iopub.status.idle": "2023-07-05T23:48:09.018919Z",
     "shell.execute_reply": "2023-07-05T23:48:09.018044Z"
    },
    "papermill": {
     "duration": 0.046593,
     "end_time": "2023-07-05T23:48:09.021385",
     "exception": false,
     "start_time": "2023-07-05T23:48:08.974792",
     "status": "completed"
    },
    "tags": []
   },
   "outputs": [],
   "source": [
    "sequence_length = 25\n",
    "#padding training data.\n",
    "train_sequences = pad_sequences(train_sequences, maxlen=sequence_length)\n",
    "# going with default padding as 'pre'\n",
    "\n",
    "#padding testing data\n",
    "test_sequences = pad_sequences(test_sequences,maxlen=sequence_length)"
   ]
  },
  {
   "cell_type": "markdown",
   "id": "846963c4",
   "metadata": {
    "papermill": {
     "duration": 0.009039,
     "end_time": "2023-07-05T23:48:09.040123",
     "exception": false,
     "start_time": "2023-07-05T23:48:09.031084",
     "status": "completed"
    },
    "tags": []
   },
   "source": [
    "**Building the model**"
   ]
  },
  {
   "cell_type": "code",
   "execution_count": 16,
   "id": "94af7b6e",
   "metadata": {
    "execution": {
     "iopub.execute_input": "2023-07-05T23:48:09.061255Z",
     "iopub.status.busy": "2023-07-05T23:48:09.060573Z",
     "iopub.status.idle": "2023-07-05T23:48:09.539645Z",
     "shell.execute_reply": "2023-07-05T23:48:09.538682Z"
    },
    "papermill": {
     "duration": 0.492935,
     "end_time": "2023-07-05T23:48:09.542785",
     "exception": false,
     "start_time": "2023-07-05T23:48:09.049850",
     "status": "completed"
    },
    "tags": []
   },
   "outputs": [],
   "source": [
    "model = keras.Sequential()\n",
    "model.add(keras.layers.Embedding(vocab_length,128,input_length=sequence_length))\n",
    "model.add(keras.layers.LSTM(64,activation = 'tanh', return_sequences=False))\n",
    "model.add(keras.layers.BatchNormalization())\n",
    "model.add(keras.layers.Dropout(0.5))\n",
    "model.add(keras.layers.Dense(64,activation=\"tanh\", kernel_regularizer=regularizers.l2(0.06)))\n",
    "model.add(keras.layers.BatchNormalization())\n",
    "model.add(keras.layers.Dropout(0.2))\n",
    "model.add(keras.layers.Dense(10,activation=\"tanh\", kernel_regularizer=regularizers.l2(0.025)))\n",
    "model.add(keras.layers.BatchNormalization())\n",
    "# model.add(keras.layers.Dropout(0.2))\n",
    "model.add(keras.layers.Dense(1))"
   ]
  },
  {
   "cell_type": "code",
   "execution_count": 17,
   "id": "0bd77d79",
   "metadata": {
    "execution": {
     "iopub.execute_input": "2023-07-05T23:48:09.568303Z",
     "iopub.status.busy": "2023-07-05T23:48:09.567376Z",
     "iopub.status.idle": "2023-07-05T23:48:09.587173Z",
     "shell.execute_reply": "2023-07-05T23:48:09.586289Z"
    },
    "papermill": {
     "duration": 0.03658,
     "end_time": "2023-07-05T23:48:09.589844",
     "exception": false,
     "start_time": "2023-07-05T23:48:09.553264",
     "status": "completed"
    },
    "tags": []
   },
   "outputs": [],
   "source": [
    "model.compile(optimizer=keras.optimizers.Adam(learning_rate=1e-3),\n",
    "              loss=keras.losses.BinaryCrossentropy(from_logits=True),\n",
    "              metrics=[\"accuracy\"])"
   ]
  },
  {
   "cell_type": "code",
   "execution_count": 18,
   "id": "126cd470",
   "metadata": {
    "execution": {
     "iopub.execute_input": "2023-07-05T23:48:09.611713Z",
     "iopub.status.busy": "2023-07-05T23:48:09.611238Z",
     "iopub.status.idle": "2023-07-05T23:48:51.384163Z",
     "shell.execute_reply": "2023-07-05T23:48:51.383333Z"
    },
    "papermill": {
     "duration": 41.786263,
     "end_time": "2023-07-05T23:48:51.386223",
     "exception": false,
     "start_time": "2023-07-05T23:48:09.599960",
     "status": "completed"
    },
    "tags": []
   },
   "outputs": [
    {
     "name": "stdout",
     "output_type": "stream",
     "text": [
      "Epoch 1/10\n",
      "90/90 [==============================] - 7s 42ms/step - loss: 3.3887 - accuracy: 0.6458\n",
      "Epoch 2/10\n",
      "90/90 [==============================] - 4s 42ms/step - loss: 1.2802 - accuracy: 0.8520\n",
      "Epoch 3/10\n",
      "90/90 [==============================] - 4s 41ms/step - loss: 0.4993 - accuracy: 0.9296\n",
      "Epoch 4/10\n",
      "90/90 [==============================] - 4s 49ms/step - loss: 0.2428 - accuracy: 0.9557\n",
      "Epoch 5/10\n",
      "90/90 [==============================] - 4s 42ms/step - loss: 0.1504 - accuracy: 0.9685\n",
      "Epoch 6/10\n",
      "90/90 [==============================] - 4s 42ms/step - loss: 0.1158 - accuracy: 0.9739\n",
      "Epoch 7/10\n",
      "90/90 [==============================] - 4s 42ms/step - loss: 0.0886 - accuracy: 0.9772\n",
      "Epoch 8/10\n",
      "90/90 [==============================] - 4s 41ms/step - loss: 0.0764 - accuracy: 0.9830\n",
      "Epoch 9/10\n",
      "90/90 [==============================] - 4s 41ms/step - loss: 0.0620 - accuracy: 0.9863\n",
      "Epoch 10/10\n",
      "90/90 [==============================] - 4s 42ms/step - loss: 0.0520 - accuracy: 0.9881\n"
     ]
    },
    {
     "data": {
      "text/plain": [
       "<keras.callbacks.History at 0x790d59a851d0>"
      ]
     },
     "execution_count": 18,
     "metadata": {},
     "output_type": "execute_result"
    }
   ],
   "source": [
    "model.fit(train_sequences,y_train,epochs=10,batch_size=64)"
   ]
  },
  {
   "cell_type": "code",
   "execution_count": 19,
   "id": "67260d15",
   "metadata": {
    "execution": {
     "iopub.execute_input": "2023-07-05T23:48:51.467363Z",
     "iopub.status.busy": "2023-07-05T23:48:51.466617Z",
     "iopub.status.idle": "2023-07-05T23:48:51.473338Z",
     "shell.execute_reply": "2023-07-05T23:48:51.472208Z"
    },
    "papermill": {
     "duration": 0.050121,
     "end_time": "2023-07-05T23:48:51.475910",
     "exception": false,
     "start_time": "2023-07-05T23:48:51.425789",
     "status": "completed"
    },
    "tags": []
   },
   "outputs": [],
   "source": [
    "def calculate_metrics(y_true, y_pred):\n",
    "    precision = Precision()\n",
    "    precision.update_state(y_true, y_pred)\n",
    "    precision = precision.result().numpy()\n",
    "\n",
    "    recall = Recall()\n",
    "    recall.update_state(y_true, y_pred)\n",
    "    recall = recall.result().numpy()\n",
    "\n",
    "    confusion_matrix = CFM(y_true, tf.math.round(y_pred))\n",
    "                                                        \n",
    "    return precision, recall, confusion_matrix\n",
    "\n"
   ]
  },
  {
   "cell_type": "code",
   "execution_count": 20,
   "id": "11ba953d",
   "metadata": {
    "execution": {
     "iopub.execute_input": "2023-07-05T23:48:51.555640Z",
     "iopub.status.busy": "2023-07-05T23:48:51.554967Z",
     "iopub.status.idle": "2023-07-05T23:48:53.298577Z",
     "shell.execute_reply": "2023-07-05T23:48:53.297056Z"
    },
    "papermill": {
     "duration": 1.786486,
     "end_time": "2023-07-05T23:48:53.301217",
     "exception": false,
     "start_time": "2023-07-05T23:48:51.514731",
     "status": "completed"
    },
    "tags": []
   },
   "outputs": [
    {
     "name": "stdout",
     "output_type": "stream",
     "text": [
      "0.995878 0.98491645\n",
      "--------------\n",
      "[[3246   10]\n",
      " [  37 2416]]\n"
     ]
    }
   ],
   "source": [
    "y_train_predicted = model.predict(train_sequences)\n",
    "y_train_predicted = keras.layers.Activation('sigmoid')(y_train_predicted) # since we haven't applied in final layer\n",
    "\n",
    "precision, recall, confusion_matrix = calculate_metrics(y_train, y_train_predicted)\n",
    "\n",
    "print(precision, recall)\n",
    "print(\"--------------\")\n",
    "print(confusion_matrix)"
   ]
  },
  {
   "cell_type": "code",
   "execution_count": 21,
   "id": "258cf46d",
   "metadata": {
    "execution": {
     "iopub.execute_input": "2023-07-05T23:48:53.380965Z",
     "iopub.status.busy": "2023-07-05T23:48:53.379971Z",
     "iopub.status.idle": "2023-07-05T23:48:53.830368Z",
     "shell.execute_reply": "2023-07-05T23:48:53.829189Z"
    },
    "papermill": {
     "duration": 0.493267,
     "end_time": "2023-07-05T23:48:53.833142",
     "exception": false,
     "start_time": "2023-07-05T23:48:53.339875",
     "status": "completed"
    },
    "tags": []
   },
   "outputs": [
    {
     "name": "stdout",
     "output_type": "stream",
     "text": [
      "0.6456103 0.73716384\n",
      "--------------\n",
      "[[755 331]\n",
      " [215 603]]\n"
     ]
    }
   ],
   "source": [
    "y_test_predicted = model.predict(test_sequences)\n",
    "y_test_predicted = keras.layers.Activation('sigmoid')(y_test_predicted) \n",
    "\n",
    "precision, recall, confusion_matrix = calculate_metrics(y_test, y_test_predicted)\n",
    "\n",
    "print(precision, recall)\n",
    "print(\"--------------\")\n",
    "print(confusion_matrix)"
   ]
  },
  {
   "cell_type": "code",
   "execution_count": 22,
   "id": "8fa5a88c",
   "metadata": {
    "execution": {
     "iopub.execute_input": "2023-07-05T23:48:53.913962Z",
     "iopub.status.busy": "2023-07-05T23:48:53.913543Z",
     "iopub.status.idle": "2023-07-05T23:48:54.996893Z",
     "shell.execute_reply": "2023-07-05T23:48:54.995909Z"
    },
    "papermill": {
     "duration": 1.125928,
     "end_time": "2023-07-05T23:48:54.999021",
     "exception": false,
     "start_time": "2023-07-05T23:48:53.873093",
     "status": "completed"
    },
    "tags": []
   },
   "outputs": [
    {
     "name": "stdout",
     "output_type": "stream",
     "text": [
      "10/10 [==============================] - 1s 14ms/step - loss: 0.8397 - accuracy: 0.7174\n"
     ]
    },
    {
     "data": {
      "text/plain": [
       "[0.8397395610809326, 0.7174369692802429]"
      ]
     },
     "execution_count": 22,
     "metadata": {},
     "output_type": "execute_result"
    }
   ],
   "source": [
    "model.evaluate(test_sequences,y_test,batch_size=200)"
   ]
  },
  {
   "cell_type": "markdown",
   "id": "a3423727",
   "metadata": {
    "papermill": {
     "duration": 0.03904,
     "end_time": "2023-07-05T23:48:55.077912",
     "exception": false,
     "start_time": "2023-07-05T23:48:55.038872",
     "status": "completed"
    },
    "tags": []
   },
   "source": [
    "It is evident that the model is overfitted the train data. for this we should retrain the model with the dropout layers"
   ]
  },
  {
   "cell_type": "markdown",
   "id": "56828ed6",
   "metadata": {
    "papermill": {
     "duration": 0.038691,
     "end_time": "2023-07-05T23:48:55.155772",
     "exception": false,
     "start_time": "2023-07-05T23:48:55.117081",
     "status": "completed"
    },
    "tags": []
   },
   "source": [
    "**Predicting for the test data**"
   ]
  },
  {
   "cell_type": "code",
   "execution_count": 23,
   "id": "9c2df96e",
   "metadata": {
    "execution": {
     "iopub.execute_input": "2023-07-05T23:48:55.237520Z",
     "iopub.status.busy": "2023-07-05T23:48:55.236286Z",
     "iopub.status.idle": "2023-07-05T23:48:55.410284Z",
     "shell.execute_reply": "2023-07-05T23:48:55.409000Z"
    },
    "papermill": {
     "duration": 0.21779,
     "end_time": "2023-07-05T23:48:55.413060",
     "exception": false,
     "start_time": "2023-07-05T23:48:55.195270",
     "status": "completed"
    },
    "tags": []
   },
   "outputs": [],
   "source": [
    "columns_to_remove_test = [\"keyword\",\"location\"]\n",
    "test_df = pd.read_csv(r\"/kaggle/input/nlp-getting-started/test.csv\")\n",
    "test_df_to_predict= test_df.drop(columns=columns_to_remove_test)\n",
    "test_df_to_predict['text'] = test_df_to_predict['text'].apply(text_preprocess)\n",
    "test_submit_sequences = tokenizer_obj.texts_to_sequences(test_df_to_predict[\"text\"].values)\n",
    "test_submit_sequences_padded = pad_sequences(test_submit_sequences,maxlen=sequence_length)"
   ]
  },
  {
   "cell_type": "code",
   "execution_count": 24,
   "id": "e2a401ff",
   "metadata": {
    "execution": {
     "iopub.execute_input": "2023-07-05T23:48:55.493464Z",
     "iopub.status.busy": "2023-07-05T23:48:55.492812Z",
     "iopub.status.idle": "2023-07-05T23:48:55.851218Z",
     "shell.execute_reply": "2023-07-05T23:48:55.850048Z"
    },
    "papermill": {
     "duration": 0.401891,
     "end_time": "2023-07-05T23:48:55.853969",
     "exception": false,
     "start_time": "2023-07-05T23:48:55.452078",
     "status": "completed"
    },
    "tags": []
   },
   "outputs": [],
   "source": [
    "predicted_output = model.predict(test_submit_sequences_padded,batch_size=100)\n",
    "predicted_output = tf.math.sigmoid(predicted_output) # since the outputs of the model are logits"
   ]
  },
  {
   "cell_type": "code",
   "execution_count": 25,
   "id": "92980153",
   "metadata": {
    "execution": {
     "iopub.execute_input": "2023-07-05T23:48:55.934552Z",
     "iopub.status.busy": "2023-07-05T23:48:55.933320Z",
     "iopub.status.idle": "2023-07-05T23:48:56.884622Z",
     "shell.execute_reply": "2023-07-05T23:48:56.883645Z"
    },
    "papermill": {
     "duration": 0.994131,
     "end_time": "2023-07-05T23:48:56.887274",
     "exception": false,
     "start_time": "2023-07-05T23:48:55.893143",
     "status": "completed"
    },
    "tags": []
   },
   "outputs": [],
   "source": [
    "target_df = pd.DataFrame(data=predicted_output,columns=[\"target\"])\n",
    "target_df[\"target\"] = target_df[\"target\"].apply(lambda x: 0 if x<0.5 else 1)"
   ]
  },
  {
   "cell_type": "code",
   "execution_count": 26,
   "id": "908af2f7",
   "metadata": {
    "execution": {
     "iopub.execute_input": "2023-07-05T23:48:56.967282Z",
     "iopub.status.busy": "2023-07-05T23:48:56.966882Z",
     "iopub.status.idle": "2023-07-05T23:48:56.974350Z",
     "shell.execute_reply": "2023-07-05T23:48:56.973543Z"
    },
    "papermill": {
     "duration": 0.050147,
     "end_time": "2023-07-05T23:48:56.976560",
     "exception": false,
     "start_time": "2023-07-05T23:48:56.926413",
     "status": "completed"
    },
    "tags": []
   },
   "outputs": [],
   "source": [
    "test_df_predicted = pd.concat([test_df_to_predict,target_df],axis=1)\n",
    "test_submission = test_df_predicted.drop(columns=[\"text\"])"
   ]
  },
  {
   "cell_type": "code",
   "execution_count": 27,
   "id": "5624d398",
   "metadata": {
    "execution": {
     "iopub.execute_input": "2023-07-05T23:48:57.062260Z",
     "iopub.status.busy": "2023-07-05T23:48:57.061565Z",
     "iopub.status.idle": "2023-07-05T23:48:57.074043Z",
     "shell.execute_reply": "2023-07-05T23:48:57.071965Z"
    },
    "papermill": {
     "duration": 0.062464,
     "end_time": "2023-07-05T23:48:57.077881",
     "exception": false,
     "start_time": "2023-07-05T23:48:57.015417",
     "status": "completed"
    },
    "tags": []
   },
   "outputs": [
    {
     "data": {
      "text/html": [
       "<div>\n",
       "<style scoped>\n",
       "    .dataframe tbody tr th:only-of-type {\n",
       "        vertical-align: middle;\n",
       "    }\n",
       "\n",
       "    .dataframe tbody tr th {\n",
       "        vertical-align: top;\n",
       "    }\n",
       "\n",
       "    .dataframe thead th {\n",
       "        text-align: right;\n",
       "    }\n",
       "</style>\n",
       "<table border=\"1\" class=\"dataframe\">\n",
       "  <thead>\n",
       "    <tr style=\"text-align: right;\">\n",
       "      <th></th>\n",
       "      <th>id</th>\n",
       "      <th>target</th>\n",
       "    </tr>\n",
       "  </thead>\n",
       "  <tbody>\n",
       "    <tr>\n",
       "      <th>0</th>\n",
       "      <td>0</td>\n",
       "      <td>0</td>\n",
       "    </tr>\n",
       "    <tr>\n",
       "      <th>1</th>\n",
       "      <td>2</td>\n",
       "      <td>0</td>\n",
       "    </tr>\n",
       "    <tr>\n",
       "      <th>2</th>\n",
       "      <td>3</td>\n",
       "      <td>1</td>\n",
       "    </tr>\n",
       "    <tr>\n",
       "      <th>3</th>\n",
       "      <td>9</td>\n",
       "      <td>1</td>\n",
       "    </tr>\n",
       "    <tr>\n",
       "      <th>4</th>\n",
       "      <td>11</td>\n",
       "      <td>1</td>\n",
       "    </tr>\n",
       "  </tbody>\n",
       "</table>\n",
       "</div>"
      ],
      "text/plain": [
       "   id  target\n",
       "0   0       0\n",
       "1   2       0\n",
       "2   3       1\n",
       "3   9       1\n",
       "4  11       1"
      ]
     },
     "execution_count": 27,
     "metadata": {},
     "output_type": "execute_result"
    }
   ],
   "source": [
    "test_submission.head()"
   ]
  },
  {
   "cell_type": "code",
   "execution_count": 28,
   "id": "a68eda5b",
   "metadata": {
    "execution": {
     "iopub.execute_input": "2023-07-05T23:48:57.160560Z",
     "iopub.status.busy": "2023-07-05T23:48:57.159760Z",
     "iopub.status.idle": "2023-07-05T23:48:57.171169Z",
     "shell.execute_reply": "2023-07-05T23:48:57.170323Z"
    },
    "papermill": {
     "duration": 0.055148,
     "end_time": "2023-07-05T23:48:57.173527",
     "exception": false,
     "start_time": "2023-07-05T23:48:57.118379",
     "status": "completed"
    },
    "tags": []
   },
   "outputs": [],
   "source": [
    "test_submission.to_csv(r\"/kaggle/working/submission.csv\",index=False)"
   ]
  },
  {
   "cell_type": "code",
   "execution_count": 29,
   "id": "1de7cfb7",
   "metadata": {
    "execution": {
     "iopub.execute_input": "2023-07-05T23:48:57.267936Z",
     "iopub.status.busy": "2023-07-05T23:48:57.267428Z",
     "iopub.status.idle": "2023-07-05T23:48:57.272463Z",
     "shell.execute_reply": "2023-07-05T23:48:57.271432Z"
    },
    "papermill": {
     "duration": 0.061623,
     "end_time": "2023-07-05T23:48:57.274647",
     "exception": false,
     "start_time": "2023-07-05T23:48:57.213024",
     "status": "completed"
    },
    "tags": []
   },
   "outputs": [],
   "source": [
    "# model.save(\"nlp_disaster_prediction_model.h5\")"
   ]
  },
  {
   "cell_type": "code",
   "execution_count": null,
   "id": "cd8c7d05",
   "metadata": {
    "papermill": {
     "duration": 0.040034,
     "end_time": "2023-07-05T23:48:57.354026",
     "exception": false,
     "start_time": "2023-07-05T23:48:57.313992",
     "status": "completed"
    },
    "tags": []
   },
   "outputs": [],
   "source": []
  }
 ],
 "metadata": {
  "kernelspec": {
   "display_name": "Python 3",
   "language": "python",
   "name": "python3"
  },
  "language_info": {
   "codemirror_mode": {
    "name": "ipython",
    "version": 3
   },
   "file_extension": ".py",
   "mimetype": "text/x-python",
   "name": "python",
   "nbconvert_exporter": "python",
   "pygments_lexer": "ipython3",
   "version": "3.7.12"
  },
  "papermill": {
   "default_parameters": {},
   "duration": 68.600655,
   "end_time": "2023-07-05T23:49:00.091157",
   "environment_variables": {},
   "exception": null,
   "input_path": "__notebook__.ipynb",
   "output_path": "__notebook__.ipynb",
   "parameters": {},
   "start_time": "2023-07-05T23:47:51.490502",
   "version": "2.3.4"
  }
 },
 "nbformat": 4,
 "nbformat_minor": 5
}
